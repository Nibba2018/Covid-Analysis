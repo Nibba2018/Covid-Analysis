{
  "nbformat": 4,
  "nbformat_minor": 0,
  "metadata": {
    "colab": {
      "name": "Covid_Analysis.ipynb",
      "provenance": [],
      "collapsed_sections": []
    },
    "kernelspec": {
      "name": "python3",
      "display_name": "Python 3"
    }
  },
  "cells": [
    {
      "cell_type": "code",
      "metadata": {
        "id": "6krUugas8SNF"
      },
      "source": [
        "import pandas as pd\n",
        "from fbprophet import Prophet\n",
        "import matplotlib.pyplot as plt"
      ],
      "execution_count": 1,
      "outputs": []
    },
    {
      "cell_type": "code",
      "metadata": {
        "id": "dfIAWe0F836z",
        "outputId": "2c82d521-6c2b-4a43-b82e-bf03523cd210",
        "colab": {
          "base_uri": "https://localhost:8080/",
          "height": 204
        }
      },
      "source": [
        "covid_data_raw = pd.read_csv(\"https://raw.githubusercontent.com/datasets/covid-19/master/data/time-series-19-covid-combined.csv\")\n",
        "covid_data_raw.head()"
      ],
      "execution_count": 2,
      "outputs": [
        {
          "output_type": "execute_result",
          "data": {
            "text/html": [
              "<div>\n",
              "<style scoped>\n",
              "    .dataframe tbody tr th:only-of-type {\n",
              "        vertical-align: middle;\n",
              "    }\n",
              "\n",
              "    .dataframe tbody tr th {\n",
              "        vertical-align: top;\n",
              "    }\n",
              "\n",
              "    .dataframe thead th {\n",
              "        text-align: right;\n",
              "    }\n",
              "</style>\n",
              "<table border=\"1\" class=\"dataframe\">\n",
              "  <thead>\n",
              "    <tr style=\"text-align: right;\">\n",
              "      <th></th>\n",
              "      <th>Date</th>\n",
              "      <th>Country/Region</th>\n",
              "      <th>Province/State</th>\n",
              "      <th>Lat</th>\n",
              "      <th>Long</th>\n",
              "      <th>Confirmed</th>\n",
              "      <th>Recovered</th>\n",
              "      <th>Deaths</th>\n",
              "    </tr>\n",
              "  </thead>\n",
              "  <tbody>\n",
              "    <tr>\n",
              "      <th>0</th>\n",
              "      <td>2020-01-22</td>\n",
              "      <td>Afghanistan</td>\n",
              "      <td>NaN</td>\n",
              "      <td>33.93911</td>\n",
              "      <td>67.709953</td>\n",
              "      <td>0</td>\n",
              "      <td>0.0</td>\n",
              "      <td>0</td>\n",
              "    </tr>\n",
              "    <tr>\n",
              "      <th>1</th>\n",
              "      <td>2020-01-23</td>\n",
              "      <td>Afghanistan</td>\n",
              "      <td>NaN</td>\n",
              "      <td>33.93911</td>\n",
              "      <td>67.709953</td>\n",
              "      <td>0</td>\n",
              "      <td>0.0</td>\n",
              "      <td>0</td>\n",
              "    </tr>\n",
              "    <tr>\n",
              "      <th>2</th>\n",
              "      <td>2020-01-24</td>\n",
              "      <td>Afghanistan</td>\n",
              "      <td>NaN</td>\n",
              "      <td>33.93911</td>\n",
              "      <td>67.709953</td>\n",
              "      <td>0</td>\n",
              "      <td>0.0</td>\n",
              "      <td>0</td>\n",
              "    </tr>\n",
              "    <tr>\n",
              "      <th>3</th>\n",
              "      <td>2020-01-25</td>\n",
              "      <td>Afghanistan</td>\n",
              "      <td>NaN</td>\n",
              "      <td>33.93911</td>\n",
              "      <td>67.709953</td>\n",
              "      <td>0</td>\n",
              "      <td>0.0</td>\n",
              "      <td>0</td>\n",
              "    </tr>\n",
              "    <tr>\n",
              "      <th>4</th>\n",
              "      <td>2020-01-26</td>\n",
              "      <td>Afghanistan</td>\n",
              "      <td>NaN</td>\n",
              "      <td>33.93911</td>\n",
              "      <td>67.709953</td>\n",
              "      <td>0</td>\n",
              "      <td>0.0</td>\n",
              "      <td>0</td>\n",
              "    </tr>\n",
              "  </tbody>\n",
              "</table>\n",
              "</div>"
            ],
            "text/plain": [
              "         Date Country/Region Province/State  ...  Confirmed  Recovered  Deaths\n",
              "0  2020-01-22    Afghanistan            NaN  ...          0        0.0       0\n",
              "1  2020-01-23    Afghanistan            NaN  ...          0        0.0       0\n",
              "2  2020-01-24    Afghanistan            NaN  ...          0        0.0       0\n",
              "3  2020-01-25    Afghanistan            NaN  ...          0        0.0       0\n",
              "4  2020-01-26    Afghanistan            NaN  ...          0        0.0       0\n",
              "\n",
              "[5 rows x 8 columns]"
            ]
          },
          "metadata": {
            "tags": []
          },
          "execution_count": 2
        }
      ]
    },
    {
      "cell_type": "code",
      "metadata": {
        "id": "Fm7p2Mn4NxTn",
        "outputId": "64efa13b-bc9b-41b5-9e12-8d99431a4cab",
        "colab": {
          "base_uri": "https://localhost:8080/",
          "height": 34
        }
      },
      "source": [
        "print(f\"Data available for {covid_data_raw['Date'].unique().size} days\")"
      ],
      "execution_count": 3,
      "outputs": [
        {
          "output_type": "stream",
          "text": [
            "Data available for 270 days\n"
          ],
          "name": "stdout"
        }
      ]
    },
    {
      "cell_type": "code",
      "metadata": {
        "id": "z1DkegBU8_xz",
        "outputId": "3eee2ba9-dc75-4b9a-b37c-6db49b211c5a",
        "colab": {
          "base_uri": "https://localhost:8080/",
          "height": 204
        }
      },
      "source": [
        "covid_data_clean = covid_data_raw.drop([\"Province/State\"], axis=1)\n",
        "covid_data_clean.head()"
      ],
      "execution_count": 4,
      "outputs": [
        {
          "output_type": "execute_result",
          "data": {
            "text/html": [
              "<div>\n",
              "<style scoped>\n",
              "    .dataframe tbody tr th:only-of-type {\n",
              "        vertical-align: middle;\n",
              "    }\n",
              "\n",
              "    .dataframe tbody tr th {\n",
              "        vertical-align: top;\n",
              "    }\n",
              "\n",
              "    .dataframe thead th {\n",
              "        text-align: right;\n",
              "    }\n",
              "</style>\n",
              "<table border=\"1\" class=\"dataframe\">\n",
              "  <thead>\n",
              "    <tr style=\"text-align: right;\">\n",
              "      <th></th>\n",
              "      <th>Date</th>\n",
              "      <th>Country/Region</th>\n",
              "      <th>Lat</th>\n",
              "      <th>Long</th>\n",
              "      <th>Confirmed</th>\n",
              "      <th>Recovered</th>\n",
              "      <th>Deaths</th>\n",
              "    </tr>\n",
              "  </thead>\n",
              "  <tbody>\n",
              "    <tr>\n",
              "      <th>0</th>\n",
              "      <td>2020-01-22</td>\n",
              "      <td>Afghanistan</td>\n",
              "      <td>33.93911</td>\n",
              "      <td>67.709953</td>\n",
              "      <td>0</td>\n",
              "      <td>0.0</td>\n",
              "      <td>0</td>\n",
              "    </tr>\n",
              "    <tr>\n",
              "      <th>1</th>\n",
              "      <td>2020-01-23</td>\n",
              "      <td>Afghanistan</td>\n",
              "      <td>33.93911</td>\n",
              "      <td>67.709953</td>\n",
              "      <td>0</td>\n",
              "      <td>0.0</td>\n",
              "      <td>0</td>\n",
              "    </tr>\n",
              "    <tr>\n",
              "      <th>2</th>\n",
              "      <td>2020-01-24</td>\n",
              "      <td>Afghanistan</td>\n",
              "      <td>33.93911</td>\n",
              "      <td>67.709953</td>\n",
              "      <td>0</td>\n",
              "      <td>0.0</td>\n",
              "      <td>0</td>\n",
              "    </tr>\n",
              "    <tr>\n",
              "      <th>3</th>\n",
              "      <td>2020-01-25</td>\n",
              "      <td>Afghanistan</td>\n",
              "      <td>33.93911</td>\n",
              "      <td>67.709953</td>\n",
              "      <td>0</td>\n",
              "      <td>0.0</td>\n",
              "      <td>0</td>\n",
              "    </tr>\n",
              "    <tr>\n",
              "      <th>4</th>\n",
              "      <td>2020-01-26</td>\n",
              "      <td>Afghanistan</td>\n",
              "      <td>33.93911</td>\n",
              "      <td>67.709953</td>\n",
              "      <td>0</td>\n",
              "      <td>0.0</td>\n",
              "      <td>0</td>\n",
              "    </tr>\n",
              "  </tbody>\n",
              "</table>\n",
              "</div>"
            ],
            "text/plain": [
              "         Date Country/Region       Lat       Long  Confirmed  Recovered  Deaths\n",
              "0  2020-01-22    Afghanistan  33.93911  67.709953          0        0.0       0\n",
              "1  2020-01-23    Afghanistan  33.93911  67.709953          0        0.0       0\n",
              "2  2020-01-24    Afghanistan  33.93911  67.709953          0        0.0       0\n",
              "3  2020-01-25    Afghanistan  33.93911  67.709953          0        0.0       0\n",
              "4  2020-01-26    Afghanistan  33.93911  67.709953          0        0.0       0"
            ]
          },
          "metadata": {
            "tags": []
          },
          "execution_count": 4
        }
      ]
    },
    {
      "cell_type": "code",
      "metadata": {
        "id": "FkbArg_t9LP9",
        "outputId": "07ea8c46-807c-48de-86a5-704cdc55c0c8",
        "colab": {
          "base_uri": "https://localhost:8080/",
          "height": 297
        }
      },
      "source": [
        "covid_data_clean.describe()"
      ],
      "execution_count": 5,
      "outputs": [
        {
          "output_type": "execute_result",
          "data": {
            "text/html": [
              "<div>\n",
              "<style scoped>\n",
              "    .dataframe tbody tr th:only-of-type {\n",
              "        vertical-align: middle;\n",
              "    }\n",
              "\n",
              "    .dataframe tbody tr th {\n",
              "        vertical-align: top;\n",
              "    }\n",
              "\n",
              "    .dataframe thead th {\n",
              "        text-align: right;\n",
              "    }\n",
              "</style>\n",
              "<table border=\"1\" class=\"dataframe\">\n",
              "  <thead>\n",
              "    <tr style=\"text-align: right;\">\n",
              "      <th></th>\n",
              "      <th>Lat</th>\n",
              "      <th>Long</th>\n",
              "      <th>Confirmed</th>\n",
              "      <th>Recovered</th>\n",
              "      <th>Deaths</th>\n",
              "    </tr>\n",
              "  </thead>\n",
              "  <tbody>\n",
              "    <tr>\n",
              "      <th>count</th>\n",
              "      <td>72090.000000</td>\n",
              "      <td>72090.000000</td>\n",
              "      <td>7.209000e+04</td>\n",
              "      <td>6.831000e+04</td>\n",
              "      <td>72090.000000</td>\n",
              "    </tr>\n",
              "    <tr>\n",
              "      <th>mean</th>\n",
              "      <td>20.961559</td>\n",
              "      <td>23.343773</td>\n",
              "      <td>4.284619e+04</td>\n",
              "      <td>2.760750e+04</td>\n",
              "      <td>1610.020807</td>\n",
              "    </tr>\n",
              "    <tr>\n",
              "      <th>std</th>\n",
              "      <td>24.882193</td>\n",
              "      <td>70.429778</td>\n",
              "      <td>3.257632e+05</td>\n",
              "      <td>2.119790e+05</td>\n",
              "      <td>10272.269230</td>\n",
              "    </tr>\n",
              "    <tr>\n",
              "      <th>min</th>\n",
              "      <td>-51.796300</td>\n",
              "      <td>-135.000000</td>\n",
              "      <td>0.000000e+00</td>\n",
              "      <td>0.000000e+00</td>\n",
              "      <td>0.000000</td>\n",
              "    </tr>\n",
              "    <tr>\n",
              "      <th>25%</th>\n",
              "      <td>6.428055</td>\n",
              "      <td>-15.310100</td>\n",
              "      <td>1.600000e+01</td>\n",
              "      <td>3.000000e+00</td>\n",
              "      <td>0.000000</td>\n",
              "    </tr>\n",
              "    <tr>\n",
              "      <th>50%</th>\n",
              "      <td>22.300000</td>\n",
              "      <td>20.939400</td>\n",
              "      <td>4.400000e+02</td>\n",
              "      <td>2.020000e+02</td>\n",
              "      <td>6.000000</td>\n",
              "    </tr>\n",
              "    <tr>\n",
              "      <th>75%</th>\n",
              "      <td>41.153300</td>\n",
              "      <td>80.771797</td>\n",
              "      <td>4.688750e+03</td>\n",
              "      <td>2.150000e+03</td>\n",
              "      <td>89.000000</td>\n",
              "    </tr>\n",
              "    <tr>\n",
              "      <th>max</th>\n",
              "      <td>71.706900</td>\n",
              "      <td>178.065000</td>\n",
              "      <td>8.106384e+06</td>\n",
              "      <td>6.524595e+06</td>\n",
              "      <td>219286.000000</td>\n",
              "    </tr>\n",
              "  </tbody>\n",
              "</table>\n",
              "</div>"
            ],
            "text/plain": [
              "                Lat          Long     Confirmed     Recovered         Deaths\n",
              "count  72090.000000  72090.000000  7.209000e+04  6.831000e+04   72090.000000\n",
              "mean      20.961559     23.343773  4.284619e+04  2.760750e+04    1610.020807\n",
              "std       24.882193     70.429778  3.257632e+05  2.119790e+05   10272.269230\n",
              "min      -51.796300   -135.000000  0.000000e+00  0.000000e+00       0.000000\n",
              "25%        6.428055    -15.310100  1.600000e+01  3.000000e+00       0.000000\n",
              "50%       22.300000     20.939400  4.400000e+02  2.020000e+02       6.000000\n",
              "75%       41.153300     80.771797  4.688750e+03  2.150000e+03      89.000000\n",
              "max       71.706900    178.065000  8.106384e+06  6.524595e+06  219286.000000"
            ]
          },
          "metadata": {
            "tags": []
          },
          "execution_count": 5
        }
      ]
    },
    {
      "cell_type": "code",
      "metadata": {
        "id": "3nMxJC-c9Zky",
        "outputId": "d5f8f104-69de-4b40-9993-9ef70304156f",
        "colab": {
          "base_uri": "https://localhost:8080/",
          "height": 173
        }
      },
      "source": [
        "covid_data_clean.describe(include=\"O\")"
      ],
      "execution_count": 6,
      "outputs": [
        {
          "output_type": "execute_result",
          "data": {
            "text/html": [
              "<div>\n",
              "<style scoped>\n",
              "    .dataframe tbody tr th:only-of-type {\n",
              "        vertical-align: middle;\n",
              "    }\n",
              "\n",
              "    .dataframe tbody tr th {\n",
              "        vertical-align: top;\n",
              "    }\n",
              "\n",
              "    .dataframe thead th {\n",
              "        text-align: right;\n",
              "    }\n",
              "</style>\n",
              "<table border=\"1\" class=\"dataframe\">\n",
              "  <thead>\n",
              "    <tr style=\"text-align: right;\">\n",
              "      <th></th>\n",
              "      <th>Date</th>\n",
              "      <th>Country/Region</th>\n",
              "    </tr>\n",
              "  </thead>\n",
              "  <tbody>\n",
              "    <tr>\n",
              "      <th>count</th>\n",
              "      <td>72090</td>\n",
              "      <td>72090</td>\n",
              "    </tr>\n",
              "    <tr>\n",
              "      <th>unique</th>\n",
              "      <td>270</td>\n",
              "      <td>189</td>\n",
              "    </tr>\n",
              "    <tr>\n",
              "      <th>top</th>\n",
              "      <td>2020-02-16</td>\n",
              "      <td>China</td>\n",
              "    </tr>\n",
              "    <tr>\n",
              "      <th>freq</th>\n",
              "      <td>267</td>\n",
              "      <td>8910</td>\n",
              "    </tr>\n",
              "  </tbody>\n",
              "</table>\n",
              "</div>"
            ],
            "text/plain": [
              "              Date Country/Region\n",
              "count        72090          72090\n",
              "unique         270            189\n",
              "top     2020-02-16          China\n",
              "freq           267           8910"
            ]
          },
          "metadata": {
            "tags": []
          },
          "execution_count": 6
        }
      ]
    },
    {
      "cell_type": "code",
      "metadata": {
        "id": "25ZBvyH39kgT",
        "outputId": "bfae1613-58f8-4b4d-ad53-f81fae21fede",
        "colab": {
          "base_uri": "https://localhost:8080/",
          "height": 255
        }
      },
      "source": [
        "covid_data_clean.info()"
      ],
      "execution_count": 7,
      "outputs": [
        {
          "output_type": "stream",
          "text": [
            "<class 'pandas.core.frame.DataFrame'>\n",
            "RangeIndex: 72090 entries, 0 to 72089\n",
            "Data columns (total 7 columns):\n",
            " #   Column          Non-Null Count  Dtype  \n",
            "---  ------          --------------  -----  \n",
            " 0   Date            72090 non-null  object \n",
            " 1   Country/Region  72090 non-null  object \n",
            " 2   Lat             72090 non-null  float64\n",
            " 3   Long            72090 non-null  float64\n",
            " 4   Confirmed       72090 non-null  int64  \n",
            " 5   Recovered       68310 non-null  float64\n",
            " 6   Deaths          72090 non-null  int64  \n",
            "dtypes: float64(3), int64(2), object(2)\n",
            "memory usage: 3.9+ MB\n"
          ],
          "name": "stdout"
        }
      ]
    },
    {
      "cell_type": "code",
      "metadata": {
        "id": "JwR3CIxS9u8_",
        "outputId": "5aefae33-d24b-47ea-d12b-ad4992bae26f",
        "colab": {
          "base_uri": "https://localhost:8080/",
          "height": 255
        }
      },
      "source": [
        "covid_data_clean['Date'] = pd.to_datetime(covid_data_clean['Date'])\n",
        "covid_data_clean.info()"
      ],
      "execution_count": 8,
      "outputs": [
        {
          "output_type": "stream",
          "text": [
            "<class 'pandas.core.frame.DataFrame'>\n",
            "RangeIndex: 72090 entries, 0 to 72089\n",
            "Data columns (total 7 columns):\n",
            " #   Column          Non-Null Count  Dtype         \n",
            "---  ------          --------------  -----         \n",
            " 0   Date            72090 non-null  datetime64[ns]\n",
            " 1   Country/Region  72090 non-null  object        \n",
            " 2   Lat             72090 non-null  float64       \n",
            " 3   Long            72090 non-null  float64       \n",
            " 4   Confirmed       72090 non-null  int64         \n",
            " 5   Recovered       68310 non-null  float64       \n",
            " 6   Deaths          72090 non-null  int64         \n",
            "dtypes: datetime64[ns](1), float64(3), int64(2), object(1)\n",
            "memory usage: 3.9+ MB\n"
          ],
          "name": "stdout"
        }
      ]
    },
    {
      "cell_type": "code",
      "metadata": {
        "id": "73W55J_5-Kg0",
        "outputId": "e92c018d-008e-428a-a805-6bb26b4ec2e4",
        "colab": {
          "base_uri": "https://localhost:8080/",
          "height": 419
        }
      },
      "source": [
        "covid_data_clean"
      ],
      "execution_count": 9,
      "outputs": [
        {
          "output_type": "execute_result",
          "data": {
            "text/html": [
              "<div>\n",
              "<style scoped>\n",
              "    .dataframe tbody tr th:only-of-type {\n",
              "        vertical-align: middle;\n",
              "    }\n",
              "\n",
              "    .dataframe tbody tr th {\n",
              "        vertical-align: top;\n",
              "    }\n",
              "\n",
              "    .dataframe thead th {\n",
              "        text-align: right;\n",
              "    }\n",
              "</style>\n",
              "<table border=\"1\" class=\"dataframe\">\n",
              "  <thead>\n",
              "    <tr style=\"text-align: right;\">\n",
              "      <th></th>\n",
              "      <th>Date</th>\n",
              "      <th>Country/Region</th>\n",
              "      <th>Lat</th>\n",
              "      <th>Long</th>\n",
              "      <th>Confirmed</th>\n",
              "      <th>Recovered</th>\n",
              "      <th>Deaths</th>\n",
              "    </tr>\n",
              "  </thead>\n",
              "  <tbody>\n",
              "    <tr>\n",
              "      <th>0</th>\n",
              "      <td>2020-01-22</td>\n",
              "      <td>Afghanistan</td>\n",
              "      <td>33.939110</td>\n",
              "      <td>67.709953</td>\n",
              "      <td>0</td>\n",
              "      <td>0.0</td>\n",
              "      <td>0</td>\n",
              "    </tr>\n",
              "    <tr>\n",
              "      <th>1</th>\n",
              "      <td>2020-01-23</td>\n",
              "      <td>Afghanistan</td>\n",
              "      <td>33.939110</td>\n",
              "      <td>67.709953</td>\n",
              "      <td>0</td>\n",
              "      <td>0.0</td>\n",
              "      <td>0</td>\n",
              "    </tr>\n",
              "    <tr>\n",
              "      <th>2</th>\n",
              "      <td>2020-01-24</td>\n",
              "      <td>Afghanistan</td>\n",
              "      <td>33.939110</td>\n",
              "      <td>67.709953</td>\n",
              "      <td>0</td>\n",
              "      <td>0.0</td>\n",
              "      <td>0</td>\n",
              "    </tr>\n",
              "    <tr>\n",
              "      <th>3</th>\n",
              "      <td>2020-01-25</td>\n",
              "      <td>Afghanistan</td>\n",
              "      <td>33.939110</td>\n",
              "      <td>67.709953</td>\n",
              "      <td>0</td>\n",
              "      <td>0.0</td>\n",
              "      <td>0</td>\n",
              "    </tr>\n",
              "    <tr>\n",
              "      <th>4</th>\n",
              "      <td>2020-01-26</td>\n",
              "      <td>Afghanistan</td>\n",
              "      <td>33.939110</td>\n",
              "      <td>67.709953</td>\n",
              "      <td>0</td>\n",
              "      <td>0.0</td>\n",
              "      <td>0</td>\n",
              "    </tr>\n",
              "    <tr>\n",
              "      <th>...</th>\n",
              "      <td>...</td>\n",
              "      <td>...</td>\n",
              "      <td>...</td>\n",
              "      <td>...</td>\n",
              "      <td>...</td>\n",
              "      <td>...</td>\n",
              "      <td>...</td>\n",
              "    </tr>\n",
              "    <tr>\n",
              "      <th>72085</th>\n",
              "      <td>2020-10-13</td>\n",
              "      <td>Zimbabwe</td>\n",
              "      <td>-19.015438</td>\n",
              "      <td>29.154857</td>\n",
              "      <td>8036</td>\n",
              "      <td>7632.0</td>\n",
              "      <td>230</td>\n",
              "    </tr>\n",
              "    <tr>\n",
              "      <th>72086</th>\n",
              "      <td>2020-10-14</td>\n",
              "      <td>Zimbabwe</td>\n",
              "      <td>-19.015438</td>\n",
              "      <td>29.154857</td>\n",
              "      <td>8055</td>\n",
              "      <td>7640.0</td>\n",
              "      <td>231</td>\n",
              "    </tr>\n",
              "    <tr>\n",
              "      <th>72087</th>\n",
              "      <td>2020-10-15</td>\n",
              "      <td>Zimbabwe</td>\n",
              "      <td>-19.015438</td>\n",
              "      <td>29.154857</td>\n",
              "      <td>8075</td>\n",
              "      <td>7669.0</td>\n",
              "      <td>231</td>\n",
              "    </tr>\n",
              "    <tr>\n",
              "      <th>72088</th>\n",
              "      <td>2020-10-16</td>\n",
              "      <td>Zimbabwe</td>\n",
              "      <td>-19.015438</td>\n",
              "      <td>29.154857</td>\n",
              "      <td>8099</td>\n",
              "      <td>7673.0</td>\n",
              "      <td>231</td>\n",
              "    </tr>\n",
              "    <tr>\n",
              "      <th>72089</th>\n",
              "      <td>2020-10-17</td>\n",
              "      <td>Zimbabwe</td>\n",
              "      <td>-19.015438</td>\n",
              "      <td>29.154857</td>\n",
              "      <td>8110</td>\n",
              "      <td>7673.0</td>\n",
              "      <td>231</td>\n",
              "    </tr>\n",
              "  </tbody>\n",
              "</table>\n",
              "<p>72090 rows × 7 columns</p>\n",
              "</div>"
            ],
            "text/plain": [
              "            Date Country/Region        Lat  ...  Confirmed  Recovered  Deaths\n",
              "0     2020-01-22    Afghanistan  33.939110  ...          0        0.0       0\n",
              "1     2020-01-23    Afghanistan  33.939110  ...          0        0.0       0\n",
              "2     2020-01-24    Afghanistan  33.939110  ...          0        0.0       0\n",
              "3     2020-01-25    Afghanistan  33.939110  ...          0        0.0       0\n",
              "4     2020-01-26    Afghanistan  33.939110  ...          0        0.0       0\n",
              "...          ...            ...        ...  ...        ...        ...     ...\n",
              "72085 2020-10-13       Zimbabwe -19.015438  ...       8036     7632.0     230\n",
              "72086 2020-10-14       Zimbabwe -19.015438  ...       8055     7640.0     231\n",
              "72087 2020-10-15       Zimbabwe -19.015438  ...       8075     7669.0     231\n",
              "72088 2020-10-16       Zimbabwe -19.015438  ...       8099     7673.0     231\n",
              "72089 2020-10-17       Zimbabwe -19.015438  ...       8110     7673.0     231\n",
              "\n",
              "[72090 rows x 7 columns]"
            ]
          },
          "metadata": {
            "tags": []
          },
          "execution_count": 9
        }
      ]
    },
    {
      "cell_type": "code",
      "metadata": {
        "id": "-NLwrKkx-PFp",
        "outputId": "fb9f19fe-397a-4e39-f88c-255a1362ffc7",
        "colab": {
          "base_uri": "https://localhost:8080/",
          "height": 824
        }
      },
      "source": [
        "covid_data_clean=covid_data_clean.sort_values(by='Date')\n",
        "covid_data_clean[30:55]"
      ],
      "execution_count": 10,
      "outputs": [
        {
          "output_type": "execute_result",
          "data": {
            "text/html": [
              "<div>\n",
              "<style scoped>\n",
              "    .dataframe tbody tr th:only-of-type {\n",
              "        vertical-align: middle;\n",
              "    }\n",
              "\n",
              "    .dataframe tbody tr th {\n",
              "        vertical-align: top;\n",
              "    }\n",
              "\n",
              "    .dataframe thead th {\n",
              "        text-align: right;\n",
              "    }\n",
              "</style>\n",
              "<table border=\"1\" class=\"dataframe\">\n",
              "  <thead>\n",
              "    <tr style=\"text-align: right;\">\n",
              "      <th></th>\n",
              "      <th>Date</th>\n",
              "      <th>Country/Region</th>\n",
              "      <th>Lat</th>\n",
              "      <th>Long</th>\n",
              "      <th>Confirmed</th>\n",
              "      <th>Recovered</th>\n",
              "      <th>Deaths</th>\n",
              "    </tr>\n",
              "  </thead>\n",
              "  <tbody>\n",
              "    <tr>\n",
              "      <th>58590</th>\n",
              "      <td>2020-01-22</td>\n",
              "      <td>Serbia</td>\n",
              "      <td>44.016500</td>\n",
              "      <td>21.005900</td>\n",
              "      <td>0</td>\n",
              "      <td>0.0</td>\n",
              "      <td>0</td>\n",
              "    </tr>\n",
              "    <tr>\n",
              "      <th>62640</th>\n",
              "      <td>2020-01-22</td>\n",
              "      <td>Switzerland</td>\n",
              "      <td>46.818200</td>\n",
              "      <td>8.227500</td>\n",
              "      <td>0</td>\n",
              "      <td>0.0</td>\n",
              "      <td>0</td>\n",
              "    </tr>\n",
              "    <tr>\n",
              "      <th>13500</th>\n",
              "      <td>2020-01-22</td>\n",
              "      <td>Canada</td>\n",
              "      <td>52.939900</td>\n",
              "      <td>-73.549100</td>\n",
              "      <td>0</td>\n",
              "      <td>NaN</td>\n",
              "      <td>0</td>\n",
              "    </tr>\n",
              "    <tr>\n",
              "      <th>13770</th>\n",
              "      <td>2020-01-22</td>\n",
              "      <td>Canada</td>\n",
              "      <td>52.939900</td>\n",
              "      <td>-106.450900</td>\n",
              "      <td>0</td>\n",
              "      <td>NaN</td>\n",
              "      <td>0</td>\n",
              "    </tr>\n",
              "    <tr>\n",
              "      <th>54270</th>\n",
              "      <td>2020-01-22</td>\n",
              "      <td>Paraguay</td>\n",
              "      <td>-23.442500</td>\n",
              "      <td>-58.443800</td>\n",
              "      <td>0</td>\n",
              "      <td>0.0</td>\n",
              "      <td>0</td>\n",
              "    </tr>\n",
              "    <tr>\n",
              "      <th>17550</th>\n",
              "      <td>2020-01-22</td>\n",
              "      <td>China</td>\n",
              "      <td>39.549000</td>\n",
              "      <td>116.130600</td>\n",
              "      <td>1</td>\n",
              "      <td>0.0</td>\n",
              "      <td>0</td>\n",
              "    </tr>\n",
              "    <tr>\n",
              "      <th>54540</th>\n",
              "      <td>2020-01-22</td>\n",
              "      <td>Peru</td>\n",
              "      <td>-9.190000</td>\n",
              "      <td>-75.015200</td>\n",
              "      <td>0</td>\n",
              "      <td>0.0</td>\n",
              "      <td>0</td>\n",
              "    </tr>\n",
              "    <tr>\n",
              "      <th>17280</th>\n",
              "      <td>2020-01-22</td>\n",
              "      <td>China</td>\n",
              "      <td>19.195900</td>\n",
              "      <td>109.745300</td>\n",
              "      <td>4</td>\n",
              "      <td>0.0</td>\n",
              "      <td>0</td>\n",
              "    </tr>\n",
              "    <tr>\n",
              "      <th>54810</th>\n",
              "      <td>2020-01-22</td>\n",
              "      <td>Philippines</td>\n",
              "      <td>12.879721</td>\n",
              "      <td>121.774017</td>\n",
              "      <td>0</td>\n",
              "      <td>0.0</td>\n",
              "      <td>0</td>\n",
              "    </tr>\n",
              "    <tr>\n",
              "      <th>17010</th>\n",
              "      <td>2020-01-22</td>\n",
              "      <td>China</td>\n",
              "      <td>26.815400</td>\n",
              "      <td>106.874800</td>\n",
              "      <td>1</td>\n",
              "      <td>0.0</td>\n",
              "      <td>0</td>\n",
              "    </tr>\n",
              "    <tr>\n",
              "      <th>55080</th>\n",
              "      <td>2020-01-22</td>\n",
              "      <td>Poland</td>\n",
              "      <td>51.919400</td>\n",
              "      <td>19.145100</td>\n",
              "      <td>0</td>\n",
              "      <td>0.0</td>\n",
              "      <td>0</td>\n",
              "    </tr>\n",
              "    <tr>\n",
              "      <th>16740</th>\n",
              "      <td>2020-01-22</td>\n",
              "      <td>China</td>\n",
              "      <td>23.829800</td>\n",
              "      <td>108.788100</td>\n",
              "      <td>2</td>\n",
              "      <td>0.0</td>\n",
              "      <td>0</td>\n",
              "    </tr>\n",
              "    <tr>\n",
              "      <th>55350</th>\n",
              "      <td>2020-01-22</td>\n",
              "      <td>Portugal</td>\n",
              "      <td>39.399900</td>\n",
              "      <td>-8.224500</td>\n",
              "      <td>0</td>\n",
              "      <td>0.0</td>\n",
              "      <td>0</td>\n",
              "    </tr>\n",
              "    <tr>\n",
              "      <th>16470</th>\n",
              "      <td>2020-01-22</td>\n",
              "      <td>China</td>\n",
              "      <td>23.341700</td>\n",
              "      <td>113.424400</td>\n",
              "      <td>26</td>\n",
              "      <td>0.0</td>\n",
              "      <td>0</td>\n",
              "    </tr>\n",
              "    <tr>\n",
              "      <th>55620</th>\n",
              "      <td>2020-01-22</td>\n",
              "      <td>Qatar</td>\n",
              "      <td>25.354800</td>\n",
              "      <td>51.183900</td>\n",
              "      <td>0</td>\n",
              "      <td>0.0</td>\n",
              "      <td>0</td>\n",
              "    </tr>\n",
              "    <tr>\n",
              "      <th>16200</th>\n",
              "      <td>2020-01-22</td>\n",
              "      <td>China</td>\n",
              "      <td>35.751800</td>\n",
              "      <td>104.286100</td>\n",
              "      <td>0</td>\n",
              "      <td>0.0</td>\n",
              "      <td>0</td>\n",
              "    </tr>\n",
              "    <tr>\n",
              "      <th>55890</th>\n",
              "      <td>2020-01-22</td>\n",
              "      <td>Romania</td>\n",
              "      <td>45.943200</td>\n",
              "      <td>24.966800</td>\n",
              "      <td>0</td>\n",
              "      <td>0.0</td>\n",
              "      <td>0</td>\n",
              "    </tr>\n",
              "    <tr>\n",
              "      <th>15930</th>\n",
              "      <td>2020-01-22</td>\n",
              "      <td>China</td>\n",
              "      <td>26.078900</td>\n",
              "      <td>117.987400</td>\n",
              "      <td>1</td>\n",
              "      <td>0.0</td>\n",
              "      <td>0</td>\n",
              "    </tr>\n",
              "    <tr>\n",
              "      <th>56160</th>\n",
              "      <td>2020-01-22</td>\n",
              "      <td>Russia</td>\n",
              "      <td>61.524010</td>\n",
              "      <td>105.318756</td>\n",
              "      <td>0</td>\n",
              "      <td>0.0</td>\n",
              "      <td>0</td>\n",
              "    </tr>\n",
              "    <tr>\n",
              "      <th>15660</th>\n",
              "      <td>2020-01-22</td>\n",
              "      <td>China</td>\n",
              "      <td>30.057200</td>\n",
              "      <td>107.874000</td>\n",
              "      <td>6</td>\n",
              "      <td>0.0</td>\n",
              "      <td>0</td>\n",
              "    </tr>\n",
              "    <tr>\n",
              "      <th>56430</th>\n",
              "      <td>2020-01-22</td>\n",
              "      <td>Rwanda</td>\n",
              "      <td>-1.940300</td>\n",
              "      <td>29.873900</td>\n",
              "      <td>0</td>\n",
              "      <td>0.0</td>\n",
              "      <td>0</td>\n",
              "    </tr>\n",
              "    <tr>\n",
              "      <th>15390</th>\n",
              "      <td>2020-01-22</td>\n",
              "      <td>China</td>\n",
              "      <td>40.182400</td>\n",
              "      <td>116.414200</td>\n",
              "      <td>14</td>\n",
              "      <td>0.0</td>\n",
              "      <td>0</td>\n",
              "    </tr>\n",
              "    <tr>\n",
              "      <th>56700</th>\n",
              "      <td>2020-01-22</td>\n",
              "      <td>Saint Kitts and Nevis</td>\n",
              "      <td>17.357822</td>\n",
              "      <td>-62.782998</td>\n",
              "      <td>0</td>\n",
              "      <td>0.0</td>\n",
              "      <td>0</td>\n",
              "    </tr>\n",
              "    <tr>\n",
              "      <th>15120</th>\n",
              "      <td>2020-01-22</td>\n",
              "      <td>China</td>\n",
              "      <td>31.825700</td>\n",
              "      <td>117.226400</td>\n",
              "      <td>1</td>\n",
              "      <td>0.0</td>\n",
              "      <td>0</td>\n",
              "    </tr>\n",
              "    <tr>\n",
              "      <th>56970</th>\n",
              "      <td>2020-01-22</td>\n",
              "      <td>Saint Lucia</td>\n",
              "      <td>13.909400</td>\n",
              "      <td>-60.978900</td>\n",
              "      <td>0</td>\n",
              "      <td>0.0</td>\n",
              "      <td>0</td>\n",
              "    </tr>\n",
              "  </tbody>\n",
              "</table>\n",
              "</div>"
            ],
            "text/plain": [
              "            Date         Country/Region  ...  Recovered  Deaths\n",
              "58590 2020-01-22                 Serbia  ...        0.0       0\n",
              "62640 2020-01-22            Switzerland  ...        0.0       0\n",
              "13500 2020-01-22                 Canada  ...        NaN       0\n",
              "13770 2020-01-22                 Canada  ...        NaN       0\n",
              "54270 2020-01-22               Paraguay  ...        0.0       0\n",
              "17550 2020-01-22                  China  ...        0.0       0\n",
              "54540 2020-01-22                   Peru  ...        0.0       0\n",
              "17280 2020-01-22                  China  ...        0.0       0\n",
              "54810 2020-01-22            Philippines  ...        0.0       0\n",
              "17010 2020-01-22                  China  ...        0.0       0\n",
              "55080 2020-01-22                 Poland  ...        0.0       0\n",
              "16740 2020-01-22                  China  ...        0.0       0\n",
              "55350 2020-01-22               Portugal  ...        0.0       0\n",
              "16470 2020-01-22                  China  ...        0.0       0\n",
              "55620 2020-01-22                  Qatar  ...        0.0       0\n",
              "16200 2020-01-22                  China  ...        0.0       0\n",
              "55890 2020-01-22                Romania  ...        0.0       0\n",
              "15930 2020-01-22                  China  ...        0.0       0\n",
              "56160 2020-01-22                 Russia  ...        0.0       0\n",
              "15660 2020-01-22                  China  ...        0.0       0\n",
              "56430 2020-01-22                 Rwanda  ...        0.0       0\n",
              "15390 2020-01-22                  China  ...        0.0       0\n",
              "56700 2020-01-22  Saint Kitts and Nevis  ...        0.0       0\n",
              "15120 2020-01-22                  China  ...        0.0       0\n",
              "56970 2020-01-22            Saint Lucia  ...        0.0       0\n",
              "\n",
              "[25 rows x 7 columns]"
            ]
          },
          "metadata": {
            "tags": []
          },
          "execution_count": 10
        }
      ]
    },
    {
      "cell_type": "code",
      "metadata": {
        "id": "9FpMg1L__J6l",
        "outputId": "85798225-2454-48a2-a5c8-4c87b06a1b03",
        "colab": {
          "base_uri": "https://localhost:8080/",
          "height": 153
        }
      },
      "source": [
        "covid_data_clean.isna().sum()"
      ],
      "execution_count": 11,
      "outputs": [
        {
          "output_type": "execute_result",
          "data": {
            "text/plain": [
              "Date                 0\n",
              "Country/Region       0\n",
              "Lat                  0\n",
              "Long                 0\n",
              "Confirmed            0\n",
              "Recovered         3780\n",
              "Deaths               0\n",
              "dtype: int64"
            ]
          },
          "metadata": {
            "tags": []
          },
          "execution_count": 11
        }
      ]
    },
    {
      "cell_type": "code",
      "metadata": {
        "id": "G3lEVt4S_xmk",
        "outputId": "c77a6160-8e7c-4856-8483-ab67d731c0bf",
        "colab": {
          "base_uri": "https://localhost:8080/",
          "height": 173
        }
      },
      "source": [
        "covid_missing_recovery = covid_data_clean[covid_data_clean.isnull().any(axis=1)]\n",
        "covid_missing_recovery.describe(include=\"O\")"
      ],
      "execution_count": 12,
      "outputs": [
        {
          "output_type": "execute_result",
          "data": {
            "text/html": [
              "<div>\n",
              "<style scoped>\n",
              "    .dataframe tbody tr th:only-of-type {\n",
              "        vertical-align: middle;\n",
              "    }\n",
              "\n",
              "    .dataframe tbody tr th {\n",
              "        vertical-align: top;\n",
              "    }\n",
              "\n",
              "    .dataframe thead th {\n",
              "        text-align: right;\n",
              "    }\n",
              "</style>\n",
              "<table border=\"1\" class=\"dataframe\">\n",
              "  <thead>\n",
              "    <tr style=\"text-align: right;\">\n",
              "      <th></th>\n",
              "      <th>Country/Region</th>\n",
              "    </tr>\n",
              "  </thead>\n",
              "  <tbody>\n",
              "    <tr>\n",
              "      <th>count</th>\n",
              "      <td>3780</td>\n",
              "    </tr>\n",
              "    <tr>\n",
              "      <th>unique</th>\n",
              "      <td>1</td>\n",
              "    </tr>\n",
              "    <tr>\n",
              "      <th>top</th>\n",
              "      <td>Canada</td>\n",
              "    </tr>\n",
              "    <tr>\n",
              "      <th>freq</th>\n",
              "      <td>3780</td>\n",
              "    </tr>\n",
              "  </tbody>\n",
              "</table>\n",
              "</div>"
            ],
            "text/plain": [
              "       Country/Region\n",
              "count            3780\n",
              "unique              1\n",
              "top            Canada\n",
              "freq             3780"
            ]
          },
          "metadata": {
            "tags": []
          },
          "execution_count": 12
        }
      ]
    },
    {
      "cell_type": "code",
      "metadata": {
        "id": "_CPGRRrIBCZw",
        "outputId": "2bf632b9-da28-4d72-93b2-c39b2d7150c9",
        "colab": {
          "base_uri": "https://localhost:8080/",
          "height": 419
        }
      },
      "source": [
        "covid_data_raw[covid_data_raw['Country/Region'] == \"Canada\"]"
      ],
      "execution_count": 13,
      "outputs": [
        {
          "output_type": "execute_result",
          "data": {
            "text/html": [
              "<div>\n",
              "<style scoped>\n",
              "    .dataframe tbody tr th:only-of-type {\n",
              "        vertical-align: middle;\n",
              "    }\n",
              "\n",
              "    .dataframe tbody tr th {\n",
              "        vertical-align: top;\n",
              "    }\n",
              "\n",
              "    .dataframe thead th {\n",
              "        text-align: right;\n",
              "    }\n",
              "</style>\n",
              "<table border=\"1\" class=\"dataframe\">\n",
              "  <thead>\n",
              "    <tr style=\"text-align: right;\">\n",
              "      <th></th>\n",
              "      <th>Date</th>\n",
              "      <th>Country/Region</th>\n",
              "      <th>Province/State</th>\n",
              "      <th>Lat</th>\n",
              "      <th>Long</th>\n",
              "      <th>Confirmed</th>\n",
              "      <th>Recovered</th>\n",
              "      <th>Deaths</th>\n",
              "    </tr>\n",
              "  </thead>\n",
              "  <tbody>\n",
              "    <tr>\n",
              "      <th>10530</th>\n",
              "      <td>2020-01-22</td>\n",
              "      <td>Canada</td>\n",
              "      <td>Alberta</td>\n",
              "      <td>53.9333</td>\n",
              "      <td>-116.5765</td>\n",
              "      <td>0</td>\n",
              "      <td>NaN</td>\n",
              "      <td>0</td>\n",
              "    </tr>\n",
              "    <tr>\n",
              "      <th>10531</th>\n",
              "      <td>2020-01-23</td>\n",
              "      <td>Canada</td>\n",
              "      <td>Alberta</td>\n",
              "      <td>53.9333</td>\n",
              "      <td>-116.5765</td>\n",
              "      <td>0</td>\n",
              "      <td>NaN</td>\n",
              "      <td>0</td>\n",
              "    </tr>\n",
              "    <tr>\n",
              "      <th>10532</th>\n",
              "      <td>2020-01-24</td>\n",
              "      <td>Canada</td>\n",
              "      <td>Alberta</td>\n",
              "      <td>53.9333</td>\n",
              "      <td>-116.5765</td>\n",
              "      <td>0</td>\n",
              "      <td>NaN</td>\n",
              "      <td>0</td>\n",
              "    </tr>\n",
              "    <tr>\n",
              "      <th>10533</th>\n",
              "      <td>2020-01-25</td>\n",
              "      <td>Canada</td>\n",
              "      <td>Alberta</td>\n",
              "      <td>53.9333</td>\n",
              "      <td>-116.5765</td>\n",
              "      <td>0</td>\n",
              "      <td>NaN</td>\n",
              "      <td>0</td>\n",
              "    </tr>\n",
              "    <tr>\n",
              "      <th>10534</th>\n",
              "      <td>2020-01-26</td>\n",
              "      <td>Canada</td>\n",
              "      <td>Alberta</td>\n",
              "      <td>53.9333</td>\n",
              "      <td>-116.5765</td>\n",
              "      <td>0</td>\n",
              "      <td>NaN</td>\n",
              "      <td>0</td>\n",
              "    </tr>\n",
              "    <tr>\n",
              "      <th>...</th>\n",
              "      <td>...</td>\n",
              "      <td>...</td>\n",
              "      <td>...</td>\n",
              "      <td>...</td>\n",
              "      <td>...</td>\n",
              "      <td>...</td>\n",
              "      <td>...</td>\n",
              "      <td>...</td>\n",
              "    </tr>\n",
              "    <tr>\n",
              "      <th>14305</th>\n",
              "      <td>2020-10-13</td>\n",
              "      <td>Canada</td>\n",
              "      <td>Yukon</td>\n",
              "      <td>64.2823</td>\n",
              "      <td>-135.0000</td>\n",
              "      <td>15</td>\n",
              "      <td>NaN</td>\n",
              "      <td>0</td>\n",
              "    </tr>\n",
              "    <tr>\n",
              "      <th>14306</th>\n",
              "      <td>2020-10-14</td>\n",
              "      <td>Canada</td>\n",
              "      <td>Yukon</td>\n",
              "      <td>64.2823</td>\n",
              "      <td>-135.0000</td>\n",
              "      <td>15</td>\n",
              "      <td>NaN</td>\n",
              "      <td>0</td>\n",
              "    </tr>\n",
              "    <tr>\n",
              "      <th>14307</th>\n",
              "      <td>2020-10-15</td>\n",
              "      <td>Canada</td>\n",
              "      <td>Yukon</td>\n",
              "      <td>64.2823</td>\n",
              "      <td>-135.0000</td>\n",
              "      <td>15</td>\n",
              "      <td>NaN</td>\n",
              "      <td>0</td>\n",
              "    </tr>\n",
              "    <tr>\n",
              "      <th>14308</th>\n",
              "      <td>2020-10-16</td>\n",
              "      <td>Canada</td>\n",
              "      <td>Yukon</td>\n",
              "      <td>64.2823</td>\n",
              "      <td>-135.0000</td>\n",
              "      <td>15</td>\n",
              "      <td>NaN</td>\n",
              "      <td>0</td>\n",
              "    </tr>\n",
              "    <tr>\n",
              "      <th>14309</th>\n",
              "      <td>2020-10-17</td>\n",
              "      <td>Canada</td>\n",
              "      <td>Yukon</td>\n",
              "      <td>64.2823</td>\n",
              "      <td>-135.0000</td>\n",
              "      <td>15</td>\n",
              "      <td>NaN</td>\n",
              "      <td>0</td>\n",
              "    </tr>\n",
              "  </tbody>\n",
              "</table>\n",
              "<p>3780 rows × 8 columns</p>\n",
              "</div>"
            ],
            "text/plain": [
              "             Date Country/Region Province/State  ...  Confirmed  Recovered  Deaths\n",
              "10530  2020-01-22         Canada        Alberta  ...          0        NaN       0\n",
              "10531  2020-01-23         Canada        Alberta  ...          0        NaN       0\n",
              "10532  2020-01-24         Canada        Alberta  ...          0        NaN       0\n",
              "10533  2020-01-25         Canada        Alberta  ...          0        NaN       0\n",
              "10534  2020-01-26         Canada        Alberta  ...          0        NaN       0\n",
              "...           ...            ...            ...  ...        ...        ...     ...\n",
              "14305  2020-10-13         Canada          Yukon  ...         15        NaN       0\n",
              "14306  2020-10-14         Canada          Yukon  ...         15        NaN       0\n",
              "14307  2020-10-15         Canada          Yukon  ...         15        NaN       0\n",
              "14308  2020-10-16         Canada          Yukon  ...         15        NaN       0\n",
              "14309  2020-10-17         Canada          Yukon  ...         15        NaN       0\n",
              "\n",
              "[3780 rows x 8 columns]"
            ]
          },
          "metadata": {
            "tags": []
          },
          "execution_count": 13
        }
      ]
    },
    {
      "cell_type": "markdown",
      "metadata": {
        "id": "flQZDoJ_Bo4q"
      },
      "source": [
        "Data for Canada will be dropped as there are no data for recovered patients"
      ]
    },
    {
      "cell_type": "code",
      "metadata": {
        "id": "6YXFvHKZBTSi",
        "outputId": "c0f63991-18a3-43df-c822-72412290ecfc",
        "colab": {
          "base_uri": "https://localhost:8080/",
          "height": 204
        }
      },
      "source": [
        "covid_data_clean.dropna(inplace=True)\n",
        "covid_data_clean.head()"
      ],
      "execution_count": 14,
      "outputs": [
        {
          "output_type": "execute_result",
          "data": {
            "text/html": [
              "<div>\n",
              "<style scoped>\n",
              "    .dataframe tbody tr th:only-of-type {\n",
              "        vertical-align: middle;\n",
              "    }\n",
              "\n",
              "    .dataframe tbody tr th {\n",
              "        vertical-align: top;\n",
              "    }\n",
              "\n",
              "    .dataframe thead th {\n",
              "        text-align: right;\n",
              "    }\n",
              "</style>\n",
              "<table border=\"1\" class=\"dataframe\">\n",
              "  <thead>\n",
              "    <tr style=\"text-align: right;\">\n",
              "      <th></th>\n",
              "      <th>Date</th>\n",
              "      <th>Country/Region</th>\n",
              "      <th>Lat</th>\n",
              "      <th>Long</th>\n",
              "      <th>Confirmed</th>\n",
              "      <th>Recovered</th>\n",
              "      <th>Deaths</th>\n",
              "    </tr>\n",
              "  </thead>\n",
              "  <tbody>\n",
              "    <tr>\n",
              "      <th>0</th>\n",
              "      <td>2020-01-22</td>\n",
              "      <td>Afghanistan</td>\n",
              "      <td>33.939110</td>\n",
              "      <td>67.709953</td>\n",
              "      <td>0</td>\n",
              "      <td>0.0</td>\n",
              "      <td>0</td>\n",
              "    </tr>\n",
              "    <tr>\n",
              "      <th>58860</th>\n",
              "      <td>2020-01-22</td>\n",
              "      <td>Seychelles</td>\n",
              "      <td>-4.679600</td>\n",
              "      <td>55.492000</td>\n",
              "      <td>0</td>\n",
              "      <td>0.0</td>\n",
              "      <td>0</td>\n",
              "    </tr>\n",
              "    <tr>\n",
              "      <th>59130</th>\n",
              "      <td>2020-01-22</td>\n",
              "      <td>Sierra Leone</td>\n",
              "      <td>8.460555</td>\n",
              "      <td>-11.779889</td>\n",
              "      <td>0</td>\n",
              "      <td>0.0</td>\n",
              "      <td>0</td>\n",
              "    </tr>\n",
              "    <tr>\n",
              "      <th>59400</th>\n",
              "      <td>2020-01-22</td>\n",
              "      <td>Singapore</td>\n",
              "      <td>1.283300</td>\n",
              "      <td>103.833300</td>\n",
              "      <td>0</td>\n",
              "      <td>0.0</td>\n",
              "      <td>0</td>\n",
              "    </tr>\n",
              "    <tr>\n",
              "      <th>59670</th>\n",
              "      <td>2020-01-22</td>\n",
              "      <td>Slovakia</td>\n",
              "      <td>48.669000</td>\n",
              "      <td>19.699000</td>\n",
              "      <td>0</td>\n",
              "      <td>0.0</td>\n",
              "      <td>0</td>\n",
              "    </tr>\n",
              "  </tbody>\n",
              "</table>\n",
              "</div>"
            ],
            "text/plain": [
              "            Date Country/Region        Lat  ...  Confirmed  Recovered  Deaths\n",
              "0     2020-01-22    Afghanistan  33.939110  ...          0        0.0       0\n",
              "58860 2020-01-22     Seychelles  -4.679600  ...          0        0.0       0\n",
              "59130 2020-01-22   Sierra Leone   8.460555  ...          0        0.0       0\n",
              "59400 2020-01-22      Singapore   1.283300  ...          0        0.0       0\n",
              "59670 2020-01-22       Slovakia  48.669000  ...          0        0.0       0\n",
              "\n",
              "[5 rows x 7 columns]"
            ]
          },
          "metadata": {
            "tags": []
          },
          "execution_count": 14
        }
      ]
    },
    {
      "cell_type": "code",
      "metadata": {
        "id": "4QmAEqJ5B2Ac"
      },
      "source": [
        ""
      ],
      "execution_count": 14,
      "outputs": []
    },
    {
      "cell_type": "code",
      "metadata": {
        "id": "mrPiIGI6B6Od",
        "outputId": "fb6406ff-a8b0-4b86-9690-7d163e3819c1",
        "colab": {
          "base_uri": "https://localhost:8080/",
          "height": 255
        }
      },
      "source": [
        "covid_data_clean['Recovered'] = covid_data_clean['Recovered'].astype(int)\n",
        "covid_data_clean.info()"
      ],
      "execution_count": 15,
      "outputs": [
        {
          "output_type": "stream",
          "text": [
            "<class 'pandas.core.frame.DataFrame'>\n",
            "Int64Index: 68310 entries, 0 to 72089\n",
            "Data columns (total 7 columns):\n",
            " #   Column          Non-Null Count  Dtype         \n",
            "---  ------          --------------  -----         \n",
            " 0   Date            68310 non-null  datetime64[ns]\n",
            " 1   Country/Region  68310 non-null  object        \n",
            " 2   Lat             68310 non-null  float64       \n",
            " 3   Long            68310 non-null  float64       \n",
            " 4   Confirmed       68310 non-null  int64         \n",
            " 5   Recovered       68310 non-null  int64         \n",
            " 6   Deaths          68310 non-null  int64         \n",
            "dtypes: datetime64[ns](1), float64(2), int64(3), object(1)\n",
            "memory usage: 4.2+ MB\n"
          ],
          "name": "stdout"
        }
      ]
    },
    {
      "cell_type": "code",
      "metadata": {
        "id": "pC1O4zf7CYVU",
        "outputId": "fb2614ec-1bf8-4c23-8779-c8c8afe9fd88",
        "colab": {
          "base_uri": "https://localhost:8080/",
          "height": 419
        }
      },
      "source": [
        "covid_data_prophet = covid_data_clean.drop([\"Country/Region\", \"Lat\", \"Long\"], axis=1)\n",
        "covid_data_prophet = covid_data_prophet.groupby(\"Date\").sum()\n",
        "covid_data_prophet.reset_index(level=0, inplace=True)\n",
        "covid_data_prophet"
      ],
      "execution_count": 16,
      "outputs": [
        {
          "output_type": "execute_result",
          "data": {
            "text/html": [
              "<div>\n",
              "<style scoped>\n",
              "    .dataframe tbody tr th:only-of-type {\n",
              "        vertical-align: middle;\n",
              "    }\n",
              "\n",
              "    .dataframe tbody tr th {\n",
              "        vertical-align: top;\n",
              "    }\n",
              "\n",
              "    .dataframe thead th {\n",
              "        text-align: right;\n",
              "    }\n",
              "</style>\n",
              "<table border=\"1\" class=\"dataframe\">\n",
              "  <thead>\n",
              "    <tr style=\"text-align: right;\">\n",
              "      <th></th>\n",
              "      <th>Date</th>\n",
              "      <th>Confirmed</th>\n",
              "      <th>Recovered</th>\n",
              "      <th>Deaths</th>\n",
              "    </tr>\n",
              "  </thead>\n",
              "  <tbody>\n",
              "    <tr>\n",
              "      <th>0</th>\n",
              "      <td>2020-01-22</td>\n",
              "      <td>555</td>\n",
              "      <td>28</td>\n",
              "      <td>17</td>\n",
              "    </tr>\n",
              "    <tr>\n",
              "      <th>1</th>\n",
              "      <td>2020-01-23</td>\n",
              "      <td>654</td>\n",
              "      <td>30</td>\n",
              "      <td>18</td>\n",
              "    </tr>\n",
              "    <tr>\n",
              "      <th>2</th>\n",
              "      <td>2020-01-24</td>\n",
              "      <td>941</td>\n",
              "      <td>36</td>\n",
              "      <td>26</td>\n",
              "    </tr>\n",
              "    <tr>\n",
              "      <th>3</th>\n",
              "      <td>2020-01-25</td>\n",
              "      <td>1434</td>\n",
              "      <td>39</td>\n",
              "      <td>42</td>\n",
              "    </tr>\n",
              "    <tr>\n",
              "      <th>4</th>\n",
              "      <td>2020-01-26</td>\n",
              "      <td>2117</td>\n",
              "      <td>52</td>\n",
              "      <td>56</td>\n",
              "    </tr>\n",
              "    <tr>\n",
              "      <th>...</th>\n",
              "      <td>...</td>\n",
              "      <td>...</td>\n",
              "      <td>...</td>\n",
              "      <td>...</td>\n",
              "    </tr>\n",
              "    <tr>\n",
              "      <th>265</th>\n",
              "      <td>2020-10-13</td>\n",
              "      <td>37941038</td>\n",
              "      <td>26305933</td>\n",
              "      <td>1076439</td>\n",
              "    </tr>\n",
              "    <tr>\n",
              "      <th>266</th>\n",
              "      <td>2020-10-14</td>\n",
              "      <td>38319079</td>\n",
              "      <td>26516041</td>\n",
              "      <td>1082430</td>\n",
              "    </tr>\n",
              "    <tr>\n",
              "      <th>267</th>\n",
              "      <td>2020-10-15</td>\n",
              "      <td>38723441</td>\n",
              "      <td>26721132</td>\n",
              "      <td>1088498</td>\n",
              "    </tr>\n",
              "    <tr>\n",
              "      <th>268</th>\n",
              "      <td>2020-10-16</td>\n",
              "      <td>39132212</td>\n",
              "      <td>26923627</td>\n",
              "      <td>1094573</td>\n",
              "    </tr>\n",
              "    <tr>\n",
              "      <th>269</th>\n",
              "      <td>2020-10-17</td>\n",
              "      <td>39411742</td>\n",
              "      <td>27049506</td>\n",
              "      <td>1099018</td>\n",
              "    </tr>\n",
              "  </tbody>\n",
              "</table>\n",
              "<p>270 rows × 4 columns</p>\n",
              "</div>"
            ],
            "text/plain": [
              "          Date  Confirmed  Recovered   Deaths\n",
              "0   2020-01-22        555         28       17\n",
              "1   2020-01-23        654         30       18\n",
              "2   2020-01-24        941         36       26\n",
              "3   2020-01-25       1434         39       42\n",
              "4   2020-01-26       2117         52       56\n",
              "..         ...        ...        ...      ...\n",
              "265 2020-10-13   37941038   26305933  1076439\n",
              "266 2020-10-14   38319079   26516041  1082430\n",
              "267 2020-10-15   38723441   26721132  1088498\n",
              "268 2020-10-16   39132212   26923627  1094573\n",
              "269 2020-10-17   39411742   27049506  1099018\n",
              "\n",
              "[270 rows x 4 columns]"
            ]
          },
          "metadata": {
            "tags": []
          },
          "execution_count": 16
        }
      ]
    },
    {
      "cell_type": "code",
      "metadata": {
        "id": "7IIA9gBlC1Z7",
        "outputId": "c4f65716-7e02-46b5-f464-cb1a9702860e",
        "colab": {
          "base_uri": "https://localhost:8080/",
          "height": 204
        }
      },
      "source": [
        "covid_data_prophet.info()"
      ],
      "execution_count": 17,
      "outputs": [
        {
          "output_type": "stream",
          "text": [
            "<class 'pandas.core.frame.DataFrame'>\n",
            "RangeIndex: 270 entries, 0 to 269\n",
            "Data columns (total 4 columns):\n",
            " #   Column     Non-Null Count  Dtype         \n",
            "---  ------     --------------  -----         \n",
            " 0   Date       270 non-null    datetime64[ns]\n",
            " 1   Confirmed  270 non-null    int64         \n",
            " 2   Recovered  270 non-null    int64         \n",
            " 3   Deaths     270 non-null    int64         \n",
            "dtypes: datetime64[ns](1), int64(3)\n",
            "memory usage: 8.6 KB\n"
          ],
          "name": "stdout"
        }
      ]
    },
    {
      "cell_type": "code",
      "metadata": {
        "id": "EV3UYRwvDkp4",
        "outputId": "5013fc28-6d9c-4872-e12a-c3394d4bf53e",
        "colab": {
          "base_uri": "https://localhost:8080/",
          "height": 204
        }
      },
      "source": [
        "covid_prophet_confirmed = covid_data_prophet.drop([\"Recovered\", \"Deaths\"], axis=1)\n",
        "covid_prophet_confirmed = covid_prophet_confirmed.rename(columns={\"Date\": \"ds\", \"Confirmed\": \"y\"})\n",
        "covid_prophet_confirmed.head()"
      ],
      "execution_count": 18,
      "outputs": [
        {
          "output_type": "execute_result",
          "data": {
            "text/html": [
              "<div>\n",
              "<style scoped>\n",
              "    .dataframe tbody tr th:only-of-type {\n",
              "        vertical-align: middle;\n",
              "    }\n",
              "\n",
              "    .dataframe tbody tr th {\n",
              "        vertical-align: top;\n",
              "    }\n",
              "\n",
              "    .dataframe thead th {\n",
              "        text-align: right;\n",
              "    }\n",
              "</style>\n",
              "<table border=\"1\" class=\"dataframe\">\n",
              "  <thead>\n",
              "    <tr style=\"text-align: right;\">\n",
              "      <th></th>\n",
              "      <th>ds</th>\n",
              "      <th>y</th>\n",
              "    </tr>\n",
              "  </thead>\n",
              "  <tbody>\n",
              "    <tr>\n",
              "      <th>0</th>\n",
              "      <td>2020-01-22</td>\n",
              "      <td>555</td>\n",
              "    </tr>\n",
              "    <tr>\n",
              "      <th>1</th>\n",
              "      <td>2020-01-23</td>\n",
              "      <td>654</td>\n",
              "    </tr>\n",
              "    <tr>\n",
              "      <th>2</th>\n",
              "      <td>2020-01-24</td>\n",
              "      <td>941</td>\n",
              "    </tr>\n",
              "    <tr>\n",
              "      <th>3</th>\n",
              "      <td>2020-01-25</td>\n",
              "      <td>1434</td>\n",
              "    </tr>\n",
              "    <tr>\n",
              "      <th>4</th>\n",
              "      <td>2020-01-26</td>\n",
              "      <td>2117</td>\n",
              "    </tr>\n",
              "  </tbody>\n",
              "</table>\n",
              "</div>"
            ],
            "text/plain": [
              "          ds     y\n",
              "0 2020-01-22   555\n",
              "1 2020-01-23   654\n",
              "2 2020-01-24   941\n",
              "3 2020-01-25  1434\n",
              "4 2020-01-26  2117"
            ]
          },
          "metadata": {
            "tags": []
          },
          "execution_count": 18
        }
      ]
    },
    {
      "cell_type": "code",
      "metadata": {
        "id": "GhNy4-FiC_Y-",
        "outputId": "e2bd866f-c565-498c-bac2-0203516991b6",
        "colab": {
          "base_uri": "https://localhost:8080/",
          "height": 68
        }
      },
      "source": [
        "prophet_confirmed = Prophet()\n",
        "prophet_confirmed.fit(covid_prophet_confirmed)"
      ],
      "execution_count": 19,
      "outputs": [
        {
          "output_type": "stream",
          "text": [
            "INFO:fbprophet:Disabling yearly seasonality. Run prophet with yearly_seasonality=True to override this.\n",
            "INFO:fbprophet:Disabling daily seasonality. Run prophet with daily_seasonality=True to override this.\n"
          ],
          "name": "stderr"
        },
        {
          "output_type": "execute_result",
          "data": {
            "text/plain": [
              "<fbprophet.forecaster.Prophet at 0x7fe4039bcdd8>"
            ]
          },
          "metadata": {
            "tags": []
          },
          "execution_count": 19
        }
      ]
    },
    {
      "cell_type": "code",
      "metadata": {
        "id": "JFZj2szIDX2g",
        "outputId": "7f8c9917-dd3c-4524-9096-b414da835160",
        "colab": {
          "base_uri": "https://localhost:8080/",
          "height": 204
        }
      },
      "source": [
        "covid_prophet_recovered = covid_data_prophet.drop([\"Confirmed\", \"Deaths\"], axis=1)\n",
        "covid_prophet_recovered = covid_prophet_recovered.rename(columns={\"Date\": \"ds\", \"Recovered\": \"y\"})\n",
        "covid_prophet_recovered.head()"
      ],
      "execution_count": 20,
      "outputs": [
        {
          "output_type": "execute_result",
          "data": {
            "text/html": [
              "<div>\n",
              "<style scoped>\n",
              "    .dataframe tbody tr th:only-of-type {\n",
              "        vertical-align: middle;\n",
              "    }\n",
              "\n",
              "    .dataframe tbody tr th {\n",
              "        vertical-align: top;\n",
              "    }\n",
              "\n",
              "    .dataframe thead th {\n",
              "        text-align: right;\n",
              "    }\n",
              "</style>\n",
              "<table border=\"1\" class=\"dataframe\">\n",
              "  <thead>\n",
              "    <tr style=\"text-align: right;\">\n",
              "      <th></th>\n",
              "      <th>ds</th>\n",
              "      <th>y</th>\n",
              "    </tr>\n",
              "  </thead>\n",
              "  <tbody>\n",
              "    <tr>\n",
              "      <th>0</th>\n",
              "      <td>2020-01-22</td>\n",
              "      <td>28</td>\n",
              "    </tr>\n",
              "    <tr>\n",
              "      <th>1</th>\n",
              "      <td>2020-01-23</td>\n",
              "      <td>30</td>\n",
              "    </tr>\n",
              "    <tr>\n",
              "      <th>2</th>\n",
              "      <td>2020-01-24</td>\n",
              "      <td>36</td>\n",
              "    </tr>\n",
              "    <tr>\n",
              "      <th>3</th>\n",
              "      <td>2020-01-25</td>\n",
              "      <td>39</td>\n",
              "    </tr>\n",
              "    <tr>\n",
              "      <th>4</th>\n",
              "      <td>2020-01-26</td>\n",
              "      <td>52</td>\n",
              "    </tr>\n",
              "  </tbody>\n",
              "</table>\n",
              "</div>"
            ],
            "text/plain": [
              "          ds   y\n",
              "0 2020-01-22  28\n",
              "1 2020-01-23  30\n",
              "2 2020-01-24  36\n",
              "3 2020-01-25  39\n",
              "4 2020-01-26  52"
            ]
          },
          "metadata": {
            "tags": []
          },
          "execution_count": 20
        }
      ]
    },
    {
      "cell_type": "code",
      "metadata": {
        "id": "_ZXDIK6uFMfG",
        "outputId": "8a1b256e-51e7-441b-8aee-6e0d4dd75e4b",
        "colab": {
          "base_uri": "https://localhost:8080/",
          "height": 68
        }
      },
      "source": [
        "prophet_recovered = Prophet()\n",
        "prophet_recovered.fit(covid_prophet_recovered)"
      ],
      "execution_count": 21,
      "outputs": [
        {
          "output_type": "stream",
          "text": [
            "INFO:fbprophet:Disabling yearly seasonality. Run prophet with yearly_seasonality=True to override this.\n",
            "INFO:fbprophet:Disabling daily seasonality. Run prophet with daily_seasonality=True to override this.\n"
          ],
          "name": "stderr"
        },
        {
          "output_type": "execute_result",
          "data": {
            "text/plain": [
              "<fbprophet.forecaster.Prophet at 0x7fe3f76f2668>"
            ]
          },
          "metadata": {
            "tags": []
          },
          "execution_count": 21
        }
      ]
    },
    {
      "cell_type": "code",
      "metadata": {
        "id": "HDXBt0s8FfCi",
        "outputId": "f7d8bfe7-0435-4732-ae62-5e87421fc0e9",
        "colab": {
          "base_uri": "https://localhost:8080/",
          "height": 204
        }
      },
      "source": [
        "covid_prophet_deaths = covid_data_prophet.drop([\"Confirmed\", \"Recovered\"], axis=1)\n",
        "covid_prophet_deaths = covid_prophet_deaths.rename(columns={\"Date\": \"ds\", \"Deaths\": \"y\"})\n",
        "covid_prophet_deaths.head()"
      ],
      "execution_count": 22,
      "outputs": [
        {
          "output_type": "execute_result",
          "data": {
            "text/html": [
              "<div>\n",
              "<style scoped>\n",
              "    .dataframe tbody tr th:only-of-type {\n",
              "        vertical-align: middle;\n",
              "    }\n",
              "\n",
              "    .dataframe tbody tr th {\n",
              "        vertical-align: top;\n",
              "    }\n",
              "\n",
              "    .dataframe thead th {\n",
              "        text-align: right;\n",
              "    }\n",
              "</style>\n",
              "<table border=\"1\" class=\"dataframe\">\n",
              "  <thead>\n",
              "    <tr style=\"text-align: right;\">\n",
              "      <th></th>\n",
              "      <th>ds</th>\n",
              "      <th>y</th>\n",
              "    </tr>\n",
              "  </thead>\n",
              "  <tbody>\n",
              "    <tr>\n",
              "      <th>0</th>\n",
              "      <td>2020-01-22</td>\n",
              "      <td>17</td>\n",
              "    </tr>\n",
              "    <tr>\n",
              "      <th>1</th>\n",
              "      <td>2020-01-23</td>\n",
              "      <td>18</td>\n",
              "    </tr>\n",
              "    <tr>\n",
              "      <th>2</th>\n",
              "      <td>2020-01-24</td>\n",
              "      <td>26</td>\n",
              "    </tr>\n",
              "    <tr>\n",
              "      <th>3</th>\n",
              "      <td>2020-01-25</td>\n",
              "      <td>42</td>\n",
              "    </tr>\n",
              "    <tr>\n",
              "      <th>4</th>\n",
              "      <td>2020-01-26</td>\n",
              "      <td>56</td>\n",
              "    </tr>\n",
              "  </tbody>\n",
              "</table>\n",
              "</div>"
            ],
            "text/plain": [
              "          ds   y\n",
              "0 2020-01-22  17\n",
              "1 2020-01-23  18\n",
              "2 2020-01-24  26\n",
              "3 2020-01-25  42\n",
              "4 2020-01-26  56"
            ]
          },
          "metadata": {
            "tags": []
          },
          "execution_count": 22
        }
      ]
    },
    {
      "cell_type": "code",
      "metadata": {
        "id": "weM6wBkCFsnS",
        "outputId": "021e3d0a-e79c-4be7-ec3d-9abce9ecf081",
        "colab": {
          "base_uri": "https://localhost:8080/",
          "height": 68
        }
      },
      "source": [
        "prophet_deaths = Prophet()\n",
        "prophet_deaths.fit(covid_prophet_deaths)"
      ],
      "execution_count": 23,
      "outputs": [
        {
          "output_type": "stream",
          "text": [
            "INFO:fbprophet:Disabling yearly seasonality. Run prophet with yearly_seasonality=True to override this.\n",
            "INFO:fbprophet:Disabling daily seasonality. Run prophet with daily_seasonality=True to override this.\n"
          ],
          "name": "stderr"
        },
        {
          "output_type": "execute_result",
          "data": {
            "text/plain": [
              "<fbprophet.forecaster.Prophet at 0x7fe3f6d9b630>"
            ]
          },
          "metadata": {
            "tags": []
          },
          "execution_count": 23
        }
      ]
    },
    {
      "cell_type": "code",
      "metadata": {
        "id": "UnFmeqMuF1fX"
      },
      "source": [
        "future_confirmed = prophet_confirmed.make_future_dataframe(periods=1095)\n",
        "future_recovered = prophet_recovered.make_future_dataframe(periods=1095)\n",
        "future_deaths = prophet_deaths.make_future_dataframe(periods=1095)\n",
        "\n",
        "forecast_confirmed = prophet_confirmed.predict(future_confirmed)\n",
        "forecast_recovered = prophet_recovered.predict(future_recovered)\n",
        "forecast_deaths = prophet_deaths.predict(future_deaths)"
      ],
      "execution_count": 24,
      "outputs": []
    },
    {
      "cell_type": "code",
      "metadata": {
        "id": "VmmxrwuSHzmX",
        "outputId": "7f89ce37-b9ba-44c3-ccc5-db12d258e325",
        "colab": {
          "base_uri": "https://localhost:8080/",
          "height": 441
        }
      },
      "source": [
        "confirmed_plot = prophet_confirmed.plot(forecast_confirmed, xlabel=\"Date\", ylabel=\"Confirmed Cases\")"
      ],
      "execution_count": 25,
      "outputs": [
        {
          "output_type": "display_data",
          "data": {
            "image/png": "[encoded data removed]",
            "text/plain": [
              "<Figure size 720x432 with 1 Axes>"
            ]
          },
          "metadata": {
            "tags": []
          }
        }
      ]
    },
    {
      "cell_type": "code",
      "metadata": {
        "id": "WyUpMPu4H7Pp",
        "outputId": "7d6af46a-94a3-4182-c19a-5c6f0b62ce48",
        "colab": {
          "base_uri": "https://localhost:8080/",
          "height": 441
        }
      },
      "source": [
        "recovered_plot = prophet_recovered.plot(forecast_recovered, xlabel=\"Date\", ylabel=\"Recovered Cases\")"
      ],
      "execution_count": 26,
      "outputs": [
        {
          "output_type": "display_data",
          "data": {
            "image/png": "[encoded data removed]",
            "text/plain": [
              "<Figure size 720x432 with 1 Axes>"
            ]
          },
          "metadata": {
            "tags": []
          }
        }
      ]
    },
    {
      "cell_type": "code",
      "metadata": {
        "id": "9XD_KvruIUP4",
        "outputId": "6a407510-1cfa-4b85-a515-a028aaf98d33",
        "colab": {
          "base_uri": "https://localhost:8080/",
          "height": 441
        }
      },
      "source": [
        "death_plot = prophet_deaths.plot(forecast_deaths, xlabel=\"Date\", ylabel=\"Deaths\")"
      ],
      "execution_count": 27,
      "outputs": [
        {
          "output_type": "display_data",
          "data": {
            "image/png": "[encoded data removed]",
            "text/plain": [
              "<Figure size 720x432 with 1 Axes>"
            ]
          },
          "metadata": {
            "tags": []
          }
        }
      ]
    }
  ]
}